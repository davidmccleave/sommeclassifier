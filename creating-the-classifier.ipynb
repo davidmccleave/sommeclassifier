{
 "cells": [
  {
   "attachments": {},
   "cell_type": "markdown",
   "metadata": {},
   "source": [
    "# Recommender System: Naive Bayes Classifier\n",
    "\n",
    "### Types\n",
    "- Collaborative filtering\n",
    "- Content-based\n",
    "- Hybrid\n",
    "- Context-aware\n",
    "\n",
    "#### Ideas\n",
    "- NLP wine recommendations\n",
    "- Content based recommendations based on input text\n",
    "- cluster wines based on ratings (give 3 recommendations per cluster)?\n",
    "- cluster wines based on price (give 3 recommendations per cluster)?\n",
    "- option to choose country\n",
    "- classify variety by description?"
   ]
  },
  {
   "cell_type": "markdown",
   "metadata": {},
   "source": [
    "### Imports, datasets and EDA"
   ]
  },
  {
   "cell_type": "code",
   "execution_count": 2,
   "metadata": {},
   "outputs": [],
   "source": [
    "import joblib\n",
    "import numpy as np\n",
    "import pandas as pd\n",
    "import sklearn\n",
    "from sklearn.model_selection import train_test_split\n",
    "import matplotlib.pyplot as plt\n",
    "import seaborn as sns\n",
    "\n",
    "import nltk\n",
    "from nltk.tag import pos_tag\n",
    "from nltk.tokenize import word_tokenize\n",
    "from nltk.stem.wordnet import WordNetLemmatizer\n",
    "from nltk import classify\n",
    "from nltk.corpus import stopwords, wordnet\n",
    "from nltk import NaiveBayesClassifier"
   ]
  },
  {
   "cell_type": "code",
   "execution_count": 3,
   "metadata": {},
   "outputs": [
    {
     "data": {
      "text/html": [
       "<div>\n",
       "<style scoped>\n",
       "    .dataframe tbody tr th:only-of-type {\n",
       "        vertical-align: middle;\n",
       "    }\n",
       "\n",
       "    .dataframe tbody tr th {\n",
       "        vertical-align: top;\n",
       "    }\n",
       "\n",
       "    .dataframe thead th {\n",
       "        text-align: right;\n",
       "    }\n",
       "</style>\n",
       "<table border=\"1\" class=\"dataframe\">\n",
       "  <thead>\n",
       "    <tr style=\"text-align: right;\">\n",
       "      <th></th>\n",
       "      <th>country</th>\n",
       "      <th>description</th>\n",
       "      <th>designation</th>\n",
       "      <th>points</th>\n",
       "      <th>price</th>\n",
       "      <th>province</th>\n",
       "      <th>variety</th>\n",
       "      <th>winery</th>\n",
       "    </tr>\n",
       "  </thead>\n",
       "  <tbody>\n",
       "    <tr>\n",
       "      <th>0</th>\n",
       "      <td>Italy</td>\n",
       "      <td>Aromas include tropical fruit, broom, brimston...</td>\n",
       "      <td>Vulkà Bianco</td>\n",
       "      <td>87</td>\n",
       "      <td>NaN</td>\n",
       "      <td>Sicily &amp; Sardinia</td>\n",
       "      <td>White Blend</td>\n",
       "      <td>Nicosia</td>\n",
       "    </tr>\n",
       "    <tr>\n",
       "      <th>1</th>\n",
       "      <td>Portugal</td>\n",
       "      <td>This is ripe and fruity, a wine that is smooth...</td>\n",
       "      <td>Avidagos</td>\n",
       "      <td>87</td>\n",
       "      <td>15.0</td>\n",
       "      <td>Douro</td>\n",
       "      <td>Portuguese Red</td>\n",
       "      <td>Quinta dos Avidagos</td>\n",
       "    </tr>\n",
       "    <tr>\n",
       "      <th>2</th>\n",
       "      <td>US</td>\n",
       "      <td>Tart and snappy, the flavors of lime flesh and...</td>\n",
       "      <td>NaN</td>\n",
       "      <td>87</td>\n",
       "      <td>14.0</td>\n",
       "      <td>Oregon</td>\n",
       "      <td>Pinot Gris</td>\n",
       "      <td>Rainstorm</td>\n",
       "    </tr>\n",
       "    <tr>\n",
       "      <th>3</th>\n",
       "      <td>US</td>\n",
       "      <td>Pineapple rind, lemon pith and orange blossom ...</td>\n",
       "      <td>Reserve Late Harvest</td>\n",
       "      <td>87</td>\n",
       "      <td>13.0</td>\n",
       "      <td>Michigan</td>\n",
       "      <td>Riesling</td>\n",
       "      <td>St. Julian</td>\n",
       "    </tr>\n",
       "    <tr>\n",
       "      <th>4</th>\n",
       "      <td>US</td>\n",
       "      <td>Much like the regular bottling from 2012, this...</td>\n",
       "      <td>Vintner's Reserve Wild Child Block</td>\n",
       "      <td>87</td>\n",
       "      <td>65.0</td>\n",
       "      <td>Oregon</td>\n",
       "      <td>Pinot Noir</td>\n",
       "      <td>Sweet Cheeks</td>\n",
       "    </tr>\n",
       "    <tr>\n",
       "      <th>...</th>\n",
       "      <td>...</td>\n",
       "      <td>...</td>\n",
       "      <td>...</td>\n",
       "      <td>...</td>\n",
       "      <td>...</td>\n",
       "      <td>...</td>\n",
       "      <td>...</td>\n",
       "      <td>...</td>\n",
       "    </tr>\n",
       "    <tr>\n",
       "      <th>129966</th>\n",
       "      <td>Germany</td>\n",
       "      <td>Notes of honeysuckle and cantaloupe sweeten th...</td>\n",
       "      <td>Brauneberger Juffer-Sonnenuhr Spätlese</td>\n",
       "      <td>90</td>\n",
       "      <td>28.0</td>\n",
       "      <td>Mosel</td>\n",
       "      <td>Riesling</td>\n",
       "      <td>Dr. H. Thanisch (Erben Müller-Burggraef)</td>\n",
       "    </tr>\n",
       "    <tr>\n",
       "      <th>129967</th>\n",
       "      <td>US</td>\n",
       "      <td>Citation is given as much as a decade of bottl...</td>\n",
       "      <td>NaN</td>\n",
       "      <td>90</td>\n",
       "      <td>75.0</td>\n",
       "      <td>Oregon</td>\n",
       "      <td>Pinot Noir</td>\n",
       "      <td>Citation</td>\n",
       "    </tr>\n",
       "    <tr>\n",
       "      <th>129968</th>\n",
       "      <td>France</td>\n",
       "      <td>Well-drained gravel soil gives this wine its c...</td>\n",
       "      <td>Kritt</td>\n",
       "      <td>90</td>\n",
       "      <td>30.0</td>\n",
       "      <td>Alsace</td>\n",
       "      <td>Gewürztraminer</td>\n",
       "      <td>Domaine Gresser</td>\n",
       "    </tr>\n",
       "    <tr>\n",
       "      <th>129969</th>\n",
       "      <td>France</td>\n",
       "      <td>A dry style of Pinot Gris, this is crisp with ...</td>\n",
       "      <td>NaN</td>\n",
       "      <td>90</td>\n",
       "      <td>32.0</td>\n",
       "      <td>Alsace</td>\n",
       "      <td>Pinot Gris</td>\n",
       "      <td>Domaine Marcel Deiss</td>\n",
       "    </tr>\n",
       "    <tr>\n",
       "      <th>129970</th>\n",
       "      <td>France</td>\n",
       "      <td>Big, rich and off-dry, this is powered by inte...</td>\n",
       "      <td>Lieu-dit Harth Cuvée Caroline</td>\n",
       "      <td>90</td>\n",
       "      <td>21.0</td>\n",
       "      <td>Alsace</td>\n",
       "      <td>Gewürztraminer</td>\n",
       "      <td>Domaine Schoffit</td>\n",
       "    </tr>\n",
       "  </tbody>\n",
       "</table>\n",
       "<p>129971 rows × 8 columns</p>\n",
       "</div>"
      ],
      "text/plain": [
       "         country                                        description  \\\n",
       "0          Italy  Aromas include tropical fruit, broom, brimston...   \n",
       "1       Portugal  This is ripe and fruity, a wine that is smooth...   \n",
       "2             US  Tart and snappy, the flavors of lime flesh and...   \n",
       "3             US  Pineapple rind, lemon pith and orange blossom ...   \n",
       "4             US  Much like the regular bottling from 2012, this...   \n",
       "...          ...                                                ...   \n",
       "129966   Germany  Notes of honeysuckle and cantaloupe sweeten th...   \n",
       "129967        US  Citation is given as much as a decade of bottl...   \n",
       "129968    France  Well-drained gravel soil gives this wine its c...   \n",
       "129969    France  A dry style of Pinot Gris, this is crisp with ...   \n",
       "129970    France  Big, rich and off-dry, this is powered by inte...   \n",
       "\n",
       "                                   designation  points  price  \\\n",
       "0                                 Vulkà Bianco      87    NaN   \n",
       "1                                     Avidagos      87   15.0   \n",
       "2                                          NaN      87   14.0   \n",
       "3                         Reserve Late Harvest      87   13.0   \n",
       "4           Vintner's Reserve Wild Child Block      87   65.0   \n",
       "...                                        ...     ...    ...   \n",
       "129966  Brauneberger Juffer-Sonnenuhr Spätlese      90   28.0   \n",
       "129967                                     NaN      90   75.0   \n",
       "129968                                   Kritt      90   30.0   \n",
       "129969                                     NaN      90   32.0   \n",
       "129970           Lieu-dit Harth Cuvée Caroline      90   21.0   \n",
       "\n",
       "                 province         variety  \\\n",
       "0       Sicily & Sardinia     White Blend   \n",
       "1                   Douro  Portuguese Red   \n",
       "2                  Oregon      Pinot Gris   \n",
       "3                Michigan        Riesling   \n",
       "4                  Oregon      Pinot Noir   \n",
       "...                   ...             ...   \n",
       "129966              Mosel        Riesling   \n",
       "129967             Oregon      Pinot Noir   \n",
       "129968             Alsace  Gewürztraminer   \n",
       "129969             Alsace      Pinot Gris   \n",
       "129970             Alsace  Gewürztraminer   \n",
       "\n",
       "                                          winery  \n",
       "0                                        Nicosia  \n",
       "1                            Quinta dos Avidagos  \n",
       "2                                      Rainstorm  \n",
       "3                                     St. Julian  \n",
       "4                                   Sweet Cheeks  \n",
       "...                                          ...  \n",
       "129966  Dr. H. Thanisch (Erben Müller-Burggraef)  \n",
       "129967                                  Citation  \n",
       "129968                           Domaine Gresser  \n",
       "129969                      Domaine Marcel Deiss  \n",
       "129970                          Domaine Schoffit  \n",
       "\n",
       "[129971 rows x 8 columns]"
      ]
     },
     "execution_count": 3,
     "metadata": {},
     "output_type": "execute_result"
    }
   ],
   "source": [
    "drop_cols = ['title', 'region_1', 'region_2', 'taster_name', 'taster_twitter_handle']\n",
    "wine_df = pd.read_csv('data/winemag-data-130k-v2.csv', index_col=0).drop(columns=drop_cols)\n",
    "wine_df"
   ]
  },
  {
   "cell_type": "code",
   "execution_count": 4,
   "metadata": {},
   "outputs": [
    {
     "data": {
      "text/html": [
       "<div>\n",
       "<style scoped>\n",
       "    .dataframe tbody tr th:only-of-type {\n",
       "        vertical-align: middle;\n",
       "    }\n",
       "\n",
       "    .dataframe tbody tr th {\n",
       "        vertical-align: top;\n",
       "    }\n",
       "\n",
       "    .dataframe thead th {\n",
       "        text-align: right;\n",
       "    }\n",
       "</style>\n",
       "<table border=\"1\" class=\"dataframe\">\n",
       "  <thead>\n",
       "    <tr style=\"text-align: right;\">\n",
       "      <th></th>\n",
       "      <th>country</th>\n",
       "      <th>description</th>\n",
       "      <th>designation</th>\n",
       "      <th>points</th>\n",
       "      <th>price</th>\n",
       "      <th>province</th>\n",
       "      <th>variety</th>\n",
       "      <th>winery</th>\n",
       "    </tr>\n",
       "  </thead>\n",
       "  <tbody>\n",
       "    <tr>\n",
       "      <th>1</th>\n",
       "      <td>Portugal</td>\n",
       "      <td>This is ripe and fruity, a wine that is smooth...</td>\n",
       "      <td>Avidagos</td>\n",
       "      <td>87</td>\n",
       "      <td>15.0</td>\n",
       "      <td>Douro</td>\n",
       "      <td>Portuguese Red</td>\n",
       "      <td>Quinta dos Avidagos</td>\n",
       "    </tr>\n",
       "    <tr>\n",
       "      <th>2</th>\n",
       "      <td>US</td>\n",
       "      <td>Tart and snappy, the flavors of lime flesh and...</td>\n",
       "      <td>NaN</td>\n",
       "      <td>87</td>\n",
       "      <td>14.0</td>\n",
       "      <td>Oregon</td>\n",
       "      <td>Pinot Gris</td>\n",
       "      <td>Rainstorm</td>\n",
       "    </tr>\n",
       "    <tr>\n",
       "      <th>3</th>\n",
       "      <td>US</td>\n",
       "      <td>Pineapple rind, lemon pith and orange blossom ...</td>\n",
       "      <td>Reserve Late Harvest</td>\n",
       "      <td>87</td>\n",
       "      <td>13.0</td>\n",
       "      <td>Michigan</td>\n",
       "      <td>Riesling</td>\n",
       "      <td>St. Julian</td>\n",
       "    </tr>\n",
       "  </tbody>\n",
       "</table>\n",
       "</div>"
      ],
      "text/plain": [
       "    country                                        description  \\\n",
       "1  Portugal  This is ripe and fruity, a wine that is smooth...   \n",
       "2        US  Tart and snappy, the flavors of lime flesh and...   \n",
       "3        US  Pineapple rind, lemon pith and orange blossom ...   \n",
       "\n",
       "            designation  points  price  province         variety  \\\n",
       "1              Avidagos      87   15.0     Douro  Portuguese Red   \n",
       "2                   NaN      87   14.0    Oregon      Pinot Gris   \n",
       "3  Reserve Late Harvest      87   13.0  Michigan        Riesling   \n",
       "\n",
       "                winery  \n",
       "1  Quinta dos Avidagos  \n",
       "2            Rainstorm  \n",
       "3           St. Julian  "
      ]
     },
     "execution_count": 4,
     "metadata": {},
     "output_type": "execute_result"
    }
   ],
   "source": [
    "# Drop rows with no price value\n",
    "wine_df = wine_df[wine_df['price'].notna()]\n",
    "# Drop rows with no variety value\n",
    "wine_df = wine_df[wine_df['variety'].notna()]\n",
    "\n",
    "wine_df.head(3)"
   ]
  },
  {
   "cell_type": "code",
   "execution_count": 5,
   "metadata": {},
   "outputs": [],
   "source": [
    "# Plots\n",
    "def plot_frequencies():\n",
    "    # counts = wine_df['variety'].value_counts()\n",
    "    # top_df = counts.reset_index()\n",
    "    # top_df.columns = ['variety', 'frequency']\n",
    "    # top_df = top_df[top_df['frequency'] > 500]\n",
    "    # plt.figure(figsize=(8, 5))\n",
    "    # sns.barplot(data=top_df, x=top_df.index, y='frequency', width=0.9)\n",
    "    # plt.xlabel('Variety Index')\n",
    "    # plt.ylabel('Frequency')\n",
    "    # # plt.xticks([])\n",
    "    # # plt.show()\n",
    "    # plt.savefig('../report/images/freq-varieties-after')\n",
    "    # # plt.savefig('../report/images/freq-varieties-before')\n",
    "    pass\n",
    "# plot_frequencies()"
   ]
  },
  {
   "cell_type": "code",
   "execution_count": 6,
   "metadata": {},
   "outputs": [
    {
     "data": {
      "text/plain": [
       "['Pinot Noir',\n",
       " 'Chardonnay',\n",
       " 'Cabernet Sauvignon',\n",
       " 'Red Blend',\n",
       " 'Bordeaux-style Red Blend',\n",
       " 'Riesling',\n",
       " 'Sauvignon Blanc',\n",
       " 'Syrah',\n",
       " 'Rosé',\n",
       " 'Merlot',\n",
       " 'Zinfandel',\n",
       " 'Malbec',\n",
       " 'Sangiovese',\n",
       " 'Nebbiolo',\n",
       " 'Portuguese Red',\n",
       " 'White Blend',\n",
       " 'Sparkling Blend',\n",
       " 'Tempranillo',\n",
       " 'Rhône-style Red Blend',\n",
       " 'Pinot Gris',\n",
       " 'Cabernet Franc',\n",
       " 'Champagne Blend',\n",
       " 'Grüner Veltliner',\n",
       " 'Pinot Grigio',\n",
       " 'Portuguese White',\n",
       " 'Viognier',\n",
       " 'Gewürztraminer',\n",
       " 'Gamay',\n",
       " 'Shiraz',\n",
       " 'Petite Sirah',\n",
       " 'Bordeaux-style White Blend',\n",
       " 'Grenache',\n",
       " 'Barbera',\n",
       " 'Glera',\n",
       " 'Sangiovese Grosso',\n",
       " 'Tempranillo Blend',\n",
       " 'Carmenère',\n",
       " 'Chenin Blanc']"
      ]
     },
     "execution_count": 6,
     "metadata": {},
     "output_type": "execute_result"
    }
   ],
   "source": [
    "frequency_threshold = 500\n",
    "\n",
    "counts = wine_df['variety'].value_counts()\n",
    "top_df = counts.reset_index()\n",
    "top_df.columns = ['variety', 'frequency']\n",
    "classes = top_df[top_df['frequency'] > frequency_threshold]['variety'].to_list()\n",
    "\n",
    "wine_df = wine_df.loc[wine_df['variety'].isin(classes)]\n",
    "# print(f'length of database: {len(wine_df)}\\n number of classes: {len(classes)}')\n",
    "# print(classes)\n",
    "# wine_df.to_csv('final-wine-dataset.csv')\n",
    "classes"
   ]
  },
  {
   "cell_type": "code",
   "execution_count": 7,
   "metadata": {},
   "outputs": [],
   "source": [
    "# wine_df['country'].unique()\n",
    "# wine_df[wine_df['country'] == 'South Africa']\n",
    "# wine_df.isna().sum() * 100 / len(wine_df)\n",
    "\n",
    "# len(wine_df['taster_twitter_handle'].unique())\n",
    "# wine_df['points'].corr(wine_df['price'])\n",
    "# stellies_df = wine_df[wine_df['province'] == 'Stellenbosch']\n",
    "# stellies_df['points'].corr(stellies_df['price'])\n",
    "# len(wine_df['variety'].unique())\n",
    "\n",
    "# varieties = wine_df['variety'].unique()\n",
    "# wine_df['variety'].value_counts()\n",
    "\n",
    "# wine_df.describe()"
   ]
  },
  {
   "cell_type": "markdown",
   "metadata": {},
   "source": [
    "### Pre-processing\n",
    "- Normalizing\n",
    "- Tokenization"
   ]
  },
  {
   "cell_type": "code",
   "execution_count": 8,
   "metadata": {},
   "outputs": [],
   "source": [
    "reviews = wine_df['description'].to_list()\n",
    "\n",
    "# Tokenize\n",
    "for i in range(len(reviews)):\n",
    "    reviews[i] = reviews[i].split()\n",
    "    # reviews[i] = word_tokenize(reviews[i])\n",
    "\n",
    "# Clean\n",
    "def clean_tokens(tokens):\n",
    "    cleaned = []\n",
    "    for token in tokens:\n",
    "        if token.startswith('@'):\n",
    "            continue\n",
    "        cleaned.append(token.lower().replace(',', '').replace('.', ''))\n",
    "    return cleaned\n",
    "\n",
    "reviews = [clean_tokens(review) for review in reviews]"
   ]
  },
  {
   "cell_type": "markdown",
   "metadata": {},
   "source": [
    "Normalization"
   ]
  },
  {
   "cell_type": "code",
   "execution_count": 9,
   "metadata": {},
   "outputs": [],
   "source": [
    "lemmatizer = WordNetLemmatizer()\n",
    "\n",
    "def get_wordnet_tag(treebank_tag):\n",
    "    if treebank_tag.startswith('J'):\n",
    "        return wordnet.ADJ\n",
    "    elif treebank_tag.startswith('V'):\n",
    "        return wordnet.VERB\n",
    "    elif treebank_tag.startswith('N'):\n",
    "        return wordnet.NOUN\n",
    "    elif treebank_tag.startswith('R'):\n",
    "        return wordnet.ADV\n",
    "    else:\n",
    "        return ''\n",
    "\n",
    "def lemmatize(word, tag):\n",
    "    tag = get_wordnet_tag(tag)\n",
    "    if tag != '':\n",
    "        return lemmatizer.lemmatize(word, tag)\n",
    "    return word\n",
    "\n",
    "def lemmatize_tokens(tokens):\n",
    "    tagged_tokens = pos_tag(tokens)\n",
    "    return [lemmatize(token[0], token[1]) for token in tagged_tokens]\n",
    "\n",
    "lemmatized_reviews = [lemmatize_tokens(review) for review in reviews]"
   ]
  },
  {
   "cell_type": "code",
   "execution_count": 10,
   "metadata": {},
   "outputs": [],
   "source": [
    "# lemmatized_reviews[0]"
   ]
  },
  {
   "cell_type": "markdown",
   "metadata": {},
   "source": [
    "Prepare data for model"
   ]
  },
  {
   "cell_type": "code",
   "execution_count": 11,
   "metadata": {},
   "outputs": [],
   "source": [
    "def prepare_tokens(tokens, index):\n",
    "    return ({token: True for token in tokens}, wine_df.iloc[index]['variety'])\n",
    "\n",
    "prepped_reviews = [prepare_tokens(review, index) for index, review in enumerate(lemmatized_reviews)]"
   ]
  },
  {
   "cell_type": "markdown",
   "metadata": {},
   "source": [
    "### Train-test split"
   ]
  },
  {
   "cell_type": "code",
   "execution_count": 12,
   "metadata": {},
   "outputs": [],
   "source": [
    "train_data, test_data = train_test_split(prepped_reviews, shuffle=True, test_size=0.3, random_state=0)"
   ]
  },
  {
   "cell_type": "markdown",
   "metadata": {},
   "source": [
    "### Training and evaluation"
   ]
  },
  {
   "cell_type": "code",
   "execution_count": 13,
   "metadata": {},
   "outputs": [],
   "source": [
    "classifier = NaiveBayesClassifier.train(train_data)"
   ]
  },
  {
   "cell_type": "code",
   "execution_count": 17,
   "metadata": {},
   "outputs": [
    {
     "data": {
      "text/plain": [
       "['nb-classifier.joblib']"
      ]
     },
     "execution_count": 17,
     "metadata": {},
     "output_type": "execute_result"
    }
   ],
   "source": [
    "joblib.dump(classifier, 'nb-classifier.joblib', compress=3)"
   ]
  },
  {
   "cell_type": "markdown",
   "metadata": {},
   "source": [
    "Evaluation: 2 accuracies"
   ]
  },
  {
   "cell_type": "code",
   "execution_count": 14,
   "metadata": {},
   "outputs": [],
   "source": [
    "top3_matches = 0\n",
    "first_try = 0\n",
    "\n",
    "for data in test_data:\n",
    "    class_probabilities = [[k, (classifier.prob_classify(data[0]).prob(k))] for k in classes]\n",
    "    class_probabilities.sort(key=lambda x: x[1], reverse=True)\n",
    "    top3 = class_probabilities[:3]\n",
    "    if top3[0][0] == data[1]:\n",
    "        first_try += 1\n",
    "    for guess in top3:\n",
    "        if guess[0] == data[1]:\n",
    "            top3_matches += 1"
   ]
  },
  {
   "cell_type": "code",
   "execution_count": 15,
   "metadata": {},
   "outputs": [
    {
     "name": "stdout",
     "output_type": "stream",
     "text": [
      "top1 accuracy: 46.9%\n",
      "top3 accuracy: 72.54%\n"
     ]
    }
   ],
   "source": [
    "print(f'top1 accuracy: {round(100 * first_try / len(test_data), 2)}%')\n",
    "print(f'top3 accuracy: {round(100 * top3_matches / len(test_data), 2)}%')"
   ]
  },
  {
   "cell_type": "markdown",
   "metadata": {},
   "source": [
    "Most informative features"
   ]
  },
  {
   "cell_type": "code",
   "execution_count": 32,
   "metadata": {},
   "outputs": [
    {
     "name": "stdout",
     "output_type": "stream",
     "text": [
      "Most Informative Features\n",
      "                grenache = True           Rhône- : Chardo =   2845.2 : 1.0\n",
      "                   peach = True            Glera : Cabern =   2413.8 : 1.0\n",
      "                brunello = True           Sangio : Red Bl =   2237.6 : 1.0\n",
      "                viognier = True           Viogni : Pinot  =   2234.0 : 1.0\n",
      "                    pear = True           Pinot  : Red Bl =   2150.4 : 1.0\n",
      "                    gris = True           Pinot  : Chardo =   1616.1 : 1.0\n",
      "                  petite = True           Petite : Pinot  =   1439.1 : 1.0\n",
      "                  chenin = True           Chenin : Chardo =   1373.1 : 1.0\n",
      "                  shiraz = True           Shiraz : Cabern =   1312.6 : 1.0\n",
      "              chardonnay = True           Chardo : Red Bl =   1305.4 : 1.0\n"
     ]
    }
   ],
   "source": [
    "classifier.show_most_informative_features(10)"
   ]
  },
  {
   "cell_type": "markdown",
   "metadata": {},
   "source": [
    "Testing the model"
   ]
  },
  {
   "cell_type": "code",
   "execution_count": 24,
   "metadata": {},
   "outputs": [
    {
     "name": "stdout",
     "output_type": "stream",
     "text": [
      "[['Petite Sirah', 15.19], ['Malbec', 12.45], ['Chardonnay', 11.99]] \n",
      "\n"
     ]
    }
   ],
   "source": [
    "def convert_input(text):\n",
    "    # Tokenize\n",
    "    tokens = lemmatize_tokens(clean_tokens(text.split()))\n",
    "    return {token: True for token in tokens}\n",
    "\n",
    "def return_recommendations(description):\n",
    "    class_probabilities = []\n",
    "    for k in classes:\n",
    "        class_probabilities.append([k, round(100 * classifier.prob_classify(convert_input(description)).prob(k), 2)])\n",
    "    class_probabilities.sort(key=lambda x: x[1], reverse=True)\n",
    "    top3 = class_probabilities[:3]\n",
    "\n",
    "    selections = []\n",
    "    for i in range(3):\n",
    "        selection_df = wine_df[wine_df['variety'] == top3[i][0]]\n",
    "        selection_df = selection_df.sort_values(by=['points', 'price'], ascending=False)\n",
    "        selections.append(selection_df.iloc[0])\n",
    "\n",
    "    return top3, selections\n",
    "\n",
    "# description = 'strong grassy aroma, farmyard character with a lingering citrus after taste'\n",
    "# description = 'sweet aromatic flowery perfumed wine with high acidity'\n",
    "# description = 'very citrusy, floral with notes of mango and orange on the nose'\n",
    "description = 'powerful overwhelming strong unappealing'\n",
    "# description = 'goes well with gamey meat'\n",
    "\n",
    "top3, selections = return_recommendations(description)\n",
    "print(top3, '\\n')\n",
    "# print(selections[2]['description'])\n",
    "# print(selections[1]['description'])\n",
    "# print(selections[2]['description'])\n",
    "# selections"
   ]
  }
 ],
 "metadata": {
  "kernelspec": {
   "display_name": ".venv",
   "language": "python",
   "name": "python3"
  },
  "language_info": {
   "codemirror_mode": {
    "name": "ipython",
    "version": 3
   },
   "file_extension": ".py",
   "mimetype": "text/x-python",
   "name": "python",
   "nbconvert_exporter": "python",
   "pygments_lexer": "ipython3",
   "version": "3.10.8 (main, Oct 21 2022, 22:22:30) [Clang 14.0.0 (clang-1400.0.29.202)]"
  },
  "orig_nbformat": 4,
  "vscode": {
   "interpreter": {
    "hash": "eb0acca06af026bab96447327ce9192b0a7f616685263a9fd7d05ced1a54de4f"
   }
  }
 },
 "nbformat": 4,
 "nbformat_minor": 2
}
